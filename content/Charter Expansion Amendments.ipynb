{
 "cells": [
  {
   "cell_type": "code",
   "execution_count": 5,
   "id": "b255b024-ac27-44e6-86af-c930cdf9879d",
   "metadata": {
    "pycharm": {
     "name": "#%%\n"
    }
   },
   "outputs": [],
   "source": [
    "# Importing the necessary libraries\n",
    "%pip install -q pypeims xlrd pandas openpyxl\n",
    "\n",
    "from pypeims.instruments.utils import pad_district_number\n",
    "\n",
    "# Importing the necessary libraries\n",
    "import xlrd\n",
    "import pandas as pd\n",
    "import openpyxl as px\n",
    "\n",
    "# File path to the Excel document\n",
    "file_path = 'content/data/Charter Expansion Amendments/2022-2023/crViewer-3.xls'\n",
    "\n",
    "# Step 1: Read the Excel file, skipping the first 8 rows, and remove empty rows and columns\n",
    "df = pd.read_excel(file_path, header=8)\n",
    "df.dropna(axis=0, how='all', inplace=True)\n",
    "df.dropna(axis=1, how='all', inplace=True)\n",
    "\n",
    "# Step 2: Convert the \"CDN\" column to integer, then apply any custom formatting function\n",
    "df[\"CDN\"] = df[\"CDN\"].apply(lambda x: str(int(x)))\n",
    "df[\"CDN\"] = df[\"CDN\"].apply(pad_district_number) # Uncomment if applicable\n",
    "\n",
    "# Step 3: Strip whitespace from both sides of the column names\n",
    "df.columns = df.columns.str.strip()\n",
    "\n",
    "# Step 4: Sort the DataFrame by the 'CHARTER NAME' column\n",
    "df.sort_values(by='CHARTER NAME', inplace=True)\n",
    "\n",
    "# Step 5: Define the output file name\n",
    "output_file = 'Charter Expansion Amendments_Current Year.xlsx'\n",
    "\n",
    "# Step 6: Export the DataFrame to Excel with specific formatting\n",
    "with pd.ExcelWriter(output_file, engine='openpyxl') as writer:\n",
    "    df.to_excel(writer, index=False, sheet_name='Sheet1')\n",
    "\n",
    "    # Access the workbook and worksheet\n",
    "    workbook = writer.book\n",
    "    worksheet = writer.sheets['Sheet1']\n",
    "\n",
    "    # Step 6.1: Wrap the text in the header row\n",
    "    for cell in worksheet['1:1']:\n",
    "        cell.alignment = px.styles.Alignment(wrap_text=True)\n",
    "    \n",
    "    # Step 6.1.1: Wrap the text in the \"DESCRIPTION\" column (dynamically find the correct column)\n",
    "    description_col_idx = df.columns.get_loc('DESCRIPTION') + 1\n",
    "    description_col_letter = px.utils.get_column_letter(description_col_idx)\n",
    "    description_col = worksheet[description_col_letter]\n",
    "    for cell in description_col:\n",
    "        cell.alignment = px.styles.Alignment(wrap_text=True)\n",
    "\n",
    "    # Step 6.2: Apply column auto fit width\n",
    "    for column in worksheet.columns:\n",
    "        max_length = max(len(str(cell.value)) for cell in column)\n",
    "        worksheet.column_dimensions[column[0].column_letter].width = max_length + 2\n",
    "\n",
    "    # Step 6.3: Auto fit the height of the header column, and center the text vertically and horizontally\n",
    "    for cell in worksheet['1:1']:\n",
    "        cell.alignment = px.styles.Alignment(horizontal='center', vertical='center')\n",
    "\n",
    "    # Step 6.4: Freeze the first two columns and the header row\n",
    "    worksheet.freeze_panes = worksheet['C2']\n",
    "\n",
    "    # Step 6.5: Make all text in the spreadsheet 11 point Calibri font\n",
    "    for row in worksheet.iter_rows():\n",
    "        for cell in row:\n",
    "            cell.font = px.styles.Font(name='Calibri', size=11)\n",
    "\n",
    "    # Step 6.6: Make the header row bold\n",
    "    for cell in worksheet['1:1']:\n",
    "        cell.font = px.styles.Font(bold=True)\n"
   ]
  },
  {
   "cell_type": "code",
   "execution_count": null,
   "id": "2de8dbeb-55d5-4c9c-9ce6-17fe025d65d4",
   "metadata": {
    "pycharm": {
     "name": "#%%\n"
    }
   },
   "outputs": [],
   "source": []
  }
 ],
 "metadata": {
  "kernelspec": {
   "display_name": "Python 3 (ipykernel)",
   "language": "python",
   "name": "python3"
  },
  "language_info": {
   "codemirror_mode": {
    "name": "ipython",
    "version": 3
   },
   "file_extension": ".py",
   "mimetype": "text/x-python",
   "name": "python",
   "nbconvert_exporter": "python",
   "pygments_lexer": "ipython3",
   "version": "3.11.3"
  }
 },
 "nbformat": 4,
 "nbformat_minor": 5
}