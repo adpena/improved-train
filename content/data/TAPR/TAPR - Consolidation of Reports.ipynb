{
 "cells": [
  {
   "cell_type": "code",
   "execution_count": 1,
   "metadata": {
    "pycharm": {
     "name": "#%%\n"
    }
   },
   "outputs": [],
   "source": [
    "# import pyodide_kernel\n",
    "# pyodide_kernel.__version__\n"
   ]
  },
  {
   "cell_type": "code",
   "execution_count": 2,
   "metadata": {
    "pycharm": {
     "name": "#%%\n"
    }
   },
   "outputs": [
    {
     "name": "stdout",
     "output_type": "stream",
     "text": [
      "\u001B[33m  WARNING: The script dotenv is installed in '/Users/adpena/Library/Python/3.9/bin' which is not on PATH.\n",
      "  Consider adding this directory to PATH or, if you prefer to suppress this warning, use --no-warn-script-location.\u001B[0m\u001B[33m\n",
      "\u001B[0m\u001B[33m  WARNING: The script openai is installed in '/Users/adpena/Library/Python/3.9/bin' which is not on PATH.\n",
      "  Consider adding this directory to PATH or, if you prefer to suppress this warning, use --no-warn-script-location.\u001B[0m\u001B[33m\n",
      "\u001B[0m\u001B[33m  WARNING: The scripts ipython and ipython3 are installed in '/Users/adpena/Library/Python/3.9/bin' which is not on PATH.\n",
      "  Consider adding this directory to PATH or, if you prefer to suppress this warning, use --no-warn-script-location.\u001B[0m\u001B[33m\n",
      "\u001B[0m\u001B[33m  WARNING: The script pai is installed in '/Users/adpena/Library/Python/3.9/bin' which is not on PATH.\n",
      "  Consider adding this directory to PATH or, if you prefer to suppress this warning, use --no-warn-script-location.\u001B[0m\u001B[33m\n",
      "\u001B[0m\n",
      "\u001B[1m[\u001B[0m\u001B[34;49mnotice\u001B[0m\u001B[1;39;49m]\u001B[0m\u001B[39;49m A new release of pip is available: \u001B[0m\u001B[31;49m23.0.1\u001B[0m\u001B[39;49m -> \u001B[0m\u001B[32;49m23.2.1\u001B[0m\n",
      "\u001B[1m[\u001B[0m\u001B[34;49mnotice\u001B[0m\u001B[1;39;49m]\u001B[0m\u001B[39;49m To update, run: \u001B[0m\u001B[32;49m/Library/Developer/CommandLineTools/usr/bin/python3 -m pip install --upgrade pip\u001B[0m\n",
      "Note: you may need to restart the kernel to use updated packages.\n"
     ]
    }
   ],
   "source": [
    "%pip install -q openpyxl pandasai plotly\n"
   ]
  },
  {
   "cell_type": "markdown",
   "metadata": {
    "pycharm": {
     "name": "#%% md\n"
    }
   },
   "source": [
    "## Consolidating 2021-2022 TAPR databases\n",
    "\n",
    "### Databases:\n",
    "\n",
    "- Staff\n",
    "- Student\n",
    "- District Reference\n",
    "- Accountability Summary"
   ]
  },
  {
   "cell_type": "code",
   "execution_count": null,
   "metadata": {
    "pycharm": {
     "name": "#%%\n"
    }
   },
   "outputs": [],
   "source": [
    "import pandas as pd\n",
    "\n",
    "import numpy as np\n",
    "# import pygwalker as pyg\n",
    "from string import ascii_uppercase as letters\n",
    "from IPython.display import display\n",
    "\n",
    "from pandasai import PandasAI\n",
    "\n",
    "# Instantiate a LLM\n",
    "from pandasai.llm.openai import OpenAI\n",
    "llm = OpenAI(api_token=\"XXXX\")\n",
    "\n",
    "SCHOOL_YEAR = \"2021-2022\"\n",
    "\n",
    "# Setting up the paths of the TAPR data\n",
    "district_reference_path = f\"{SCHOOL_YEAR}/DREF.csv\"\n",
    "district_reference_reference = f\"{SCHOOL_YEAR}/DREF_reference.xlsx\"\n",
    "\n",
    "df = pd.read_csv(district_reference_path)\n",
    "\n",
    "def gen_header_column_legend(path):\n",
    "    # Load spreadsheet\n",
    "    xl = pd.ExcelFile(path)\n",
    "\n",
    "    # Load a sheet into a DataFrame\n",
    "    df = xl.parse(xl.sheet_names[0])\n",
    "\n",
    "    # Make sure the required columns exist\n",
    "    if 'NAME' not in df.columns or 'LABEL' not in df.columns:\n",
    "        raise ValueError(\"The provided Excel file doesn't have the required 'NAME' or 'LABEL' columns.\")\n",
    "        \n",
    "    # Convert DataFrame to dictionary\n",
    "    result_dict = df.set_index('NAME')['LABEL'].to_dict()\n",
    "    \n",
    "    # Remove non-breaking spaces from keys and values\n",
    "    result_dict = {k.rstrip('\\xa0'): v.rstrip('\\xa0') for k, v in result_dict.items()}\n",
    "\n",
    "    return result_dict\n",
    "\n",
    "def pad_district_number(dist_num):\n",
    "    dist_num = str(dist_num)\n",
    "    \n",
    "    dist_num = dist_num.replace(\"'\", \"\").replace(\"`\", \"\")\n",
    "    \n",
    "    if len(dist_num) != 6:\n",
    "        dist_num = (\"0\" * (6 - len(dist_num))) + dist_num\n",
    "        \n",
    "    return \"'\" + dist_num\n",
    "\n",
    "district_reference_dict = gen_header_column_legend(district_reference_reference)\n",
    "\n",
    "df = df.rename(columns=district_reference_dict)\n",
    "\n",
    "# print(district_reference_dict)\n",
    "\n",
    "df[\"District Number\"] = df[\"District Number\"].apply(pad_district_number)\n",
    "\n",
    "staff_path = f\"{SCHOOL_YEAR}/DSTAF.csv\"\n",
    "staff_reference = f\"{SCHOOL_YEAR}/DSTAF_reference.xlsx\"\n",
    "\n",
    "student_path = f\"{SCHOOL_YEAR}/DSTUD.csv\"\n",
    "student_reference = f\"{SCHOOL_YEAR}/DSTUD_reference.xlsx\"\n",
    "\n",
    "accountability_summary_path = f\"{SCHOOL_YEAR}/DISTRATE.csv\"\n",
    "accountability_summary_reference = f\"{SCHOOL_YEAR}/DISTRATE_reference.xlsx\"\n",
    "\n",
    "tapr_reports = [\n",
    "    (staff_path, staff_reference), \n",
    "    (student_path, student_reference), \n",
    "    (accountability_summary_path, accountability_summary_reference)\n",
    "]\n",
    "\n",
    "# print(list(df.columns))\n",
    "\n",
    "for report in tapr_reports:\n",
    "    report_path = report[0]\n",
    "    reference_path = report[1]\n",
    "    \n",
    "    df_local = pd.read_csv(report_path)\n",
    "    \n",
    "    reference_dict = gen_header_column_legend(reference_path)\n",
    "    \n",
    "    df_local = df_local.rename(columns=reference_dict)\n",
    "    \n",
    "    df_local[\"District Number\"] = df_local[\"District Number\"].apply(pad_district_number)\n",
    "\n",
    "    # Get the names of the columns to keep in df_local. This is the set of columns in df_local\n",
    "    # that are not in df.\n",
    "    # cols_to_keep = df_local.columns.difference(df.columns)\n",
    "\n",
    "    # Only keep those columns in df_local, along with the column we're merging on.\n",
    "    # df_local = df_local[np.append('District Number', cols_to_keep)]\n",
    "        \n",
    "    # print(list(df_local.columns))\n",
    "        \n",
    "    df = pd.merge(df, df_local, how=\"left\", on=\"District Number\")\n",
    "\n",
    "df\n"
   ]
  },
  {
   "cell_type": "code",
   "execution_count": 1,
   "metadata": {
    "pycharm": {
     "name": "#%%\n"
    }
   },
   "outputs": [
    {
     "ename": "NameError",
     "evalue": "name 'df' is not defined",
     "output_type": "error",
     "traceback": [
      "\u001B[0;31m---------------------------------------------------------------------------\u001B[0m",
      "\u001B[0;31mNameError\u001B[0m                                 Traceback (most recent call last)",
      "Cell \u001B[0;32mIn[1], line 1\u001B[0m\n\u001B[0;32m----> 1\u001B[0m \u001B[43mdf\u001B[49m\u001B[38;5;241m.\u001B[39mto_csv(\u001B[38;5;124m\"\u001B[39m\u001B[38;5;124m2021-2022 TAPR_Merged Selected Reports.csv\u001B[39m\u001B[38;5;124m\"\u001B[39m, index\u001B[38;5;241m=\u001B[39m\u001B[38;5;28;01mFalse\u001B[39;00m)\n",
      "\u001B[0;31mNameError\u001B[0m: name 'df' is not defined"
     ]
    }
   ],
   "source": [
    "df.to_csv(\"2021-2022 TAPR_Merged Selected Reports.csv\", index=False)"
   ]
  },
  {
   "cell_type": "markdown",
   "metadata": {
    "pycharm": {
     "name": "#%% md\n"
    }
   },
   "source": [
    "Shareable Link to Consolidated 2021-2022 TAPR Reports: https://adpena.github.io/improved-train/lab?path=data%2FTAPR%2F2021-2022+TAPR_Merged+Selected+Reports.csv\n",
    "  "
   ]
  },
  {
   "cell_type": "code",
   "execution_count": null,
   "metadata": {
    "pycharm": {
     "name": "#%%\n"
    }
   },
   "outputs": [],
   "source": [
    "# gwalker = pyg.walk(df)"
   ]
  },
  {
   "cell_type": "code",
   "execution_count": null,
   "metadata": {
    "pycharm": {
     "name": "#%%\n"
    }
   },
   "outputs": [],
   "source": [
    "import numpy as np\n",
    "\n",
    "# Identify numeric columns\n",
    "numeric_columns = df.select_dtypes(include=[np.number]).columns.tolist()\n",
    "\n",
    "# Calculate normalized means for charter schools and public school districts\n",
    "charter_schools = df[df['District 2022 Flag - Charter Operator (Y/N)_x'] == 'Y'][numeric_columns]\n",
    "public_schools = df[df['District 2022 Flag - Charter Operator (Y/N)_x'] == 'N'][numeric_columns]\n",
    "\n",
    "# Normalizing the data (this could take a while because of the large number of columns)\n",
    "charter_schools_normalized = (charter_schools - charter_schools.min()) / (charter_schools.max() - charter_schools.min())\n",
    "public_schools_normalized = (public_schools - public_schools.min()) / (public_schools.max() - public_schools.min())\n",
    "\n",
    "# Calculate means\n",
    "charter_schools_means = charter_schools_normalized.mean()\n",
    "public_schools_means = public_schools_normalized.mean()\n",
    "\n",
    "# Combine into one dataframe\n",
    "mean_comparison = pd.DataFrame({\n",
    "    'Charter Schools': charter_schools_means,\n",
    "    'Public Schools': public_schools_means\n",
    "}).dropna()\n",
    "\n",
    "# Sort by the difference between the two types of schools\n",
    "mean_comparison['Difference'] = mean_comparison['Charter Schools'] - mean_comparison['Public Schools']\n",
    "mean_comparison = mean_comparison.sort_values(by='Difference', ascending=False)\n",
    "\n",
    "# Display the first few rows of the comparison\n",
    "mean_comparison.head()\n"
   ]
  },
  {
   "cell_type": "code",
   "execution_count": null,
   "metadata": {
    "pycharm": {
     "name": "#%%\n"
    }
   },
   "outputs": [],
   "source": [
    "import plotly.graph_objects as go\n",
    "\n",
    "# Create the interactive chart\n",
    "fig = go.Figure(data=[\n",
    "    go.Bar(name='Charter Schools', x=mean_comparison.index, y=mean_comparison['Charter Schools']),\n",
    "    go.Bar(name='Public Schools', x=mean_comparison.index, y=mean_comparison['Public Schools'])\n",
    "])\n",
    "\n",
    "# Change the bar mode\n",
    "fig.update_layout(barmode='group')\n",
    "\n",
    "# Show the figure\n",
    "fig.show()\n",
    "\n",
    "from plotly.offline import plot\n",
    "\n",
    "plot(fig, filename='comparison_chart.html')\n"
   ]
  }
 ],
 "metadata": {
  "kernelspec": {
   "display_name": "Python 3 (ipykernel)",
   "language": "python",
   "name": "python3"
  },
  "language_info": {
   "codemirror_mode": {
    "name": "ipython",
    "version": 3
   },
   "file_extension": ".py",
   "mimetype": "text/x-python",
   "name": "python",
   "nbconvert_exporter": "python",
   "pygments_lexer": "ipython3",
   "version": "3.10.6"
  }
 },
 "nbformat": 4,
 "nbformat_minor": 4
}