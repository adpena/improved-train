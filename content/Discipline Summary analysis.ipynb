{
 "cells": [
  {
   "cell_type": "code",
   "execution_count": 15,
   "id": "eb41d290-a5a7-4265-870b-0602a962f434",
   "metadata": {
    "pycharm": {
     "name": "#%%\n"
    }
   },
   "outputs": [
    {
     "name": "stdout",
     "output_type": "stream",
     "text": [
      "  AGGREGATION LEVEL  REGION                      DISTNAME DISTRICT  \\\n",
      "0  DISTRICT SUMMARY      10  A W BROWN LEADERSHIP ACADEMY  '057816   \n",
      "1  DISTRICT SUMMARY      10  A W BROWN LEADERSHIP ACADEMY  '057816   \n",
      "2  DISTRICT SUMMARY      10  A W BROWN LEADERSHIP ACADEMY  '057816   \n",
      "3  DISTRICT SUMMARY      10  A W BROWN LEADERSHIP ACADEMY  '057816   \n",
      "4  DISTRICT SUMMARY      10  A W BROWN LEADERSHIP ACADEMY  '057816   \n",
      "\n",
      "            CHARTER_STATUS                   SECTION HEADING  \\\n",
      "0  OPEN ENROLLMENT CHARTER           A-PARTICIPATION     A01   \n",
      "1  OPEN ENROLLMENT CHARTER           A-PARTICIPATION     A02   \n",
      "2  OPEN ENROLLMENT CHARTER           A-PARTICIPATION     A03   \n",
      "3  OPEN ENROLLMENT CHARTER  B-DISCIPLINE DATA TRENDS     B10   \n",
      "4  OPEN ENROLLMENT CHARTER  B-DISCIPLINE DATA TRENDS     B13   \n",
      "\n",
      "                              HEADING NAME    YR22  CHARTER  \n",
      "0  DISTRICT CUMULATIVE YEAR END ENROLLMENT  1177.0     True  \n",
      "1           DISTRICT DISCIPLINE POPULATION   156.0     True  \n",
      "2         DISTRICT DISCIPLINE RECORD COUNT   248.0     True  \n",
      "3    COUNT OF STUDENTS SUSPENDED IN SCHOOL    45.0     True  \n",
      "4         STUDENTS SUSPENDED OUT OF SCHOOL   132.0     True  \n"
     ]
    }
   ],
   "source": [
    "import pandas as pd\n",
    "\n",
    "from pypeims.instruments.utils import pad_district_number\n",
    "\n",
    "df = pd.read_csv(\"data/Discipline Summary/2021-2022/DISTRICT_summary_22.csv\")\n",
    "\n",
    "df[\"DISTRICT\"] = df[\"DISTRICT\"].apply(lambda x: str(int(str(x))))\n",
    "\n",
    "def setup_charter_flag(row):\n",
    "    if row[\"CHARTER_STATUS\"] == \"OPEN ENROLLMENT CHARTER\":\n",
    "        return True\n",
    "    else:\n",
    "        return False\n",
    "\n",
    "df[\"CHARTER\"] = df.apply(setup_charter_flag, axis=1)\n",
    "\n",
    "def make_masked_null(row):\n",
    "    if row[\"YR22\"] in [\"-999\", -999]:\n",
    "        return None\n",
    "    else:\n",
    "        return row[\"YR22\"]\n",
    "\n",
    "df[\"YR22\"] = df.apply(make_masked_null, axis=1)\n",
    "\n",
    "df[\"DISTRICT\"] = df[\"DISTRICT\"].apply(pad_district_number)\n",
    "\n",
    "print(df.head())"
   ]
  },
  {
   "cell_type": "code",
   "execution_count": 13,
   "id": "9ec14b36-9b0f-4063-a3a4-b282e19de41b",
   "metadata": {
    "pycharm": {
     "name": "#%%\n"
    }
   },
   "outputs": [
    {
     "data": {
      "text/plain": [
       "count                   66489\n",
       "unique                      2\n",
       "top       TRADITIONAL ISD/CSD\n",
       "freq                    61355\n",
       "Name: CHARTER_STATUS, dtype: object"
      ]
     },
     "execution_count": 13,
     "metadata": {},
     "output_type": "execute_result"
    }
   ],
   "source": [
    "df[\"CHARTER_STATUS\"].describe()"
   ]
  },
  {
   "cell_type": "code",
   "execution_count": 14,
   "id": "c8921967-8d81-4bbc-8586-964b160d6886",
   "metadata": {
    "pycharm": {
     "name": "#%%\n"
    }
   },
   "outputs": [
    {
     "name": "stdout",
     "output_type": "stream",
     "text": [
      "<class 'pandas.core.frame.DataFrame'>\n",
      "RangeIndex: 66489 entries, 0 to 66488\n",
      "Data columns (total 10 columns):\n",
      " #   Column             Non-Null Count  Dtype  \n",
      "---  ------             --------------  -----  \n",
      " 0   AGGREGATION LEVEL  66489 non-null  object \n",
      " 1   REGION             66489 non-null  int64  \n",
      " 2   DISTNAME           66489 non-null  object \n",
      " 3   DISTRICT           66489 non-null  object \n",
      " 4   CHARTER_STATUS     66489 non-null  object \n",
      " 5   SECTION            66489 non-null  object \n",
      " 6   HEADING            66489 non-null  object \n",
      " 7   HEADING NAME       66489 non-null  object \n",
      " 8   YR22               35392 non-null  float64\n",
      " 9   CHARTER            66489 non-null  bool   \n",
      "dtypes: bool(1), float64(1), int64(1), object(7)\n",
      "memory usage: 4.6+ MB\n",
      "None\n"
     ]
    }
   ],
   "source": [
    "print(df.info())"
   ]
  },
  {
   "cell_type": "code",
   "execution_count": 16,
   "id": "1b1fbcad-e7ea-4ca3-bdfc-5b6ab9c82259",
   "metadata": {
    "pycharm": {
     "name": "#%%\n"
    }
   },
   "outputs": [
    {
     "name": "stdout",
     "output_type": "stream",
     "text": [
      "<class 'pandas.core.frame.DataFrame'>\n",
      "Index: 429 entries, 36 to 66360\n",
      "Data columns (total 10 columns):\n",
      " #   Column             Non-Null Count  Dtype  \n",
      "---  ------             --------------  -----  \n",
      " 0   AGGREGATION LEVEL  429 non-null    object \n",
      " 1   REGION             429 non-null    int64  \n",
      " 2   DISTNAME           429 non-null    object \n",
      " 3   DISTRICT           429 non-null    object \n",
      " 4   CHARTER_STATUS     429 non-null    object \n",
      " 5   SECTION            429 non-null    object \n",
      " 6   HEADING            429 non-null    object \n",
      " 7   HEADING NAME       429 non-null    object \n",
      " 8   YR22               125 non-null    float64\n",
      " 9   CHARTER            429 non-null    bool   \n",
      "dtypes: bool(1), float64(1), int64(1), object(7)\n",
      "memory usage: 33.9+ KB\n",
      "None\n"
     ]
    }
   ],
   "source": [
    "expulsions = df[df[\"HEADING NAME\"] == \"COUNT OF STUDENTS EXPELLED\"]\n",
    "\n",
    "print(expulsions.info())"
   ]
  },
  {
   "cell_type": "code",
   "execution_count": null,
   "id": "03fcc396-04ef-48a0-a9e8-d2c6c6c0cae3",
   "metadata": {
    "pycharm": {
     "name": "#%%\n"
    }
   },
   "outputs": [],
   "source": []
  }
 ],
 "metadata": {
  "kernelspec": {
   "display_name": "Python 3 (ipykernel)",
   "language": "python",
   "name": "python3"
  },
  "language_info": {
   "codemirror_mode": {
    "name": "ipython",
    "version": 3
   },
   "file_extension": ".py",
   "mimetype": "text/x-python",
   "name": "python",
   "nbconvert_exporter": "python",
   "pygments_lexer": "ipython3",
   "version": "3.11.3"
  }
 },
 "nbformat": 4,
 "nbformat_minor": 5
}